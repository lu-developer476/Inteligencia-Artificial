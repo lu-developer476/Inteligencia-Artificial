# ---
# title: "Fast Prompting POC - Idea Alquímica"
# author: "Lucas Leonel Montenegro Burgos"
# date: "2025-10-06"
# ---

# 🧩 Celdas del Notebook

# ============================================================
# 1. IMPORTS Y CONFIGURACIÓN INICIAL
# ============================================================

import os
import json
import random
from datetime import datetime

try:
    import openai
except ImportError:
    openai = None

print("✅ Entorno listo. Modo simulación activo si no hay clave API.")

# Configuración opcional de la clave API
OPENAI_API_KEY = os.getenv("OPENAI_API_KEY", None)
if OPENAI_API_KEY and openai:
    openai.api_key = OPENAI_API_KEY
    SIMULATION_MODE = False
else:
    SIMULATION_MODE = True

# ============================================================
# 2. FUNCIONES AUXILIARES
# ============================================================

def simulate_response(prompt: str) -> str:
    """Simula una respuesta de IA si no hay clave API."""
    responses = [
        "Art-Synt: Tecnología con alma futurista.",
        "Despierta tu espíritu digital. Vive Art-Synt.",
        "Ilumina el mañana con accesorios de otro siglo.",
        "Tu estética cyberpunk comienza aquí.",
        "Fusión entre metal, neón y deseo tecnológico."
    ]
    return random.choice(responses)

def estimate_cost(prompt: str, response: str, price_per_token=0.0005):
    """Simula el cálculo de costo aproximado."""
    tokens = len(prompt.split()) + len(response.split())
    cost = tokens * price_per_token
    return {"tokens": tokens, "cost_usd": round(cost, 4)}

# ============================================================
# 3. PROMPTS BASELINE Y OPTIMIZADOS
# ============================================================

baseline_prompt = """
Genera un slogan corto para una tienda online de temática cyberpunk
que vende accesorios tecnológicos únicos.
"""

fast_prompt = """
[ROL]: Eres un experto en branding futurista y marketing cyberpunk.

[CONTEXTO]: Trabajas para 'Art-Synt', una tienda digital ambientada
en un universo futurista donde la tecnología y el arte se fusionan.
Buscas atraer clientes jóvenes interesados en accesorios tecnológicos.

[RESTRICCIONES]:
- Máximo 12 palabras.
- Estilo evocador, estético y moderno.
- Debe transmitir identidad visual coherente con el universo cyberpunk.
- No repetir palabras ni usar clichés como “innovación” o “futuro”.

[FORMATO DE SALIDA]: JSON con campos:
{
  "slogan": "...",
  "tono": "...",
  "validacion": "✅ o ❌ (si cumple con estilo y extensión)"
}

[SELF-CHECK]:
Verifica que el slogan cumpla con las restricciones antes de devolverlo.
"""

# ============================================================
# 4. GENERACIÓN DE RESULTADOS
# ============================================================

def generate_text(prompt: str):
    """Genera respuesta simulada o real según el modo."""
    if SIMULATION_MODE:
        return simulate_response(prompt)
    else:
        completion = openai.ChatCompletion.create(
            model="gpt-4o-mini",
            messages=[{"role": "user", "content": prompt}],
            temperature=0.8
        )
        return completion.choices[0].message["content"]

print("🧠 Generando respuestas...\n")

baseline_output = generate_text(baseline_prompt)
fast_output = generate_text(fast_prompt)

# ============================================================
# 5. ANÁLISIS DE RESULTADOS
# ============================================================

baseline_cost = estimate_cost(baseline_prompt, baseline_output)
fast_cost = estimate_cost(fast_prompt, fast_output)

print("---- RESULTADOS ----")
print("\n📜 BASELINE PROMPT:")
print(baseline_output)
print(f"Costo estimado: {baseline_cost}")

print("\n⚡ FAST PROMPTING:")
print(fast_output)
print(f"Costo estimado: {fast_cost}")

# ============================================================
# 6. CHECKLIST SIMPLE DE CALIDAD
# ============================================================

def quality_check(slogan: str):
    """Evalúa la calidad según heurísticas simples."""
    score = 0
    criteria = {
        "longitud_adecuada": len(slogan.split()) <= 12,
        "originalidad": not any(word in slogan.lower() for word in ["innovación", "futuro"]),
        "estilo_evocador": any(word in slogan.lower() for word in ["neón", "alma", "digital", "cyber", "metal"])
    }

    score = sum(criteria.values())
    result = {"puntaje": f"{score}/3", "detalle": criteria}
    return result

baseline_check = quality_check(baseline_output)
fast_check = quality_check(fast_output)

print("\n✅ EVALUACIÓN DE CALIDAD")
print("Baseline:", baseline_check)
print("Fast Prompting:", fast_check)

# ============================================================
# 7. REGISTRO DE RESULTADOS EN ARCHIVO
# ============================================================

results = {
    "timestamp": datetime.now().isoformat(),
    "baseline": {
        "prompt": baseline_prompt.strip(),
        "output": baseline_output.strip(),
        "cost": baseline_cost,
        "quality": baseline_check
    },
    "fast_prompting": {
        "prompt": fast_prompt.strip(),
        "output": fast_output.strip(),
        "cost": fast_cost,
        "quality": fast_check
    }
}

os.makedirs("../outputs/text_results", exist_ok=True)
with open("../outputs/text_results/results_log.json", "w", encoding="utf-8") as f:
    json.dump(results, f, indent=4, ensure_ascii=False)

print("\n💾 Resultados guardados en outputs/text_results/results_log.json")

# ============================================================
# 8. CONCLUSIONES
# ============================================================

print("\n📊 Conclusión:")
print("- El Fast Prompting genera resultados más estructurados y consistentes.")
print("- La reducción de iteraciones ahorra tokens y mejora la calidad final.")

